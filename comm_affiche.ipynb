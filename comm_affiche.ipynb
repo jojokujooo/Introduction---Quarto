{
  "cells": [
    {
      "cell_type": "raw",
      "metadata": {},
      "source": [
        "---\n",
        "title: Commentaires et Affichage\n",
        "---"
      ],
      "id": "a88e28e4"
    },
    {
      "cell_type": "markdown",
      "metadata": {},
      "source": [
        "### Commentaires\n",
        "\n",
        "<p id=textIntro>Les <strong>commentaires</strong> sont utilisés pour expliquer le code. Ils sont utiles pour vous mais surtout pour ceux qui vont lire votre code. Ils commencent par un <strong>#</strong> et prennent toute une ligne sauf s'ils suivent une instruction. <strong>A noter qu'ils ne sont pas comptabilisés quand on exécute du code</strong><br>\n",
        "<strong>Alors simplifiez la vie de votre prof et commentez votre code !</strong></p>\n"
      ],
      "id": "21d55bbb"
    },
    {
      "cell_type": "code",
      "metadata": {},
      "source": [
        "# Voici un commentaire\n",
        "\n",
        "variableTest = 2 # Voici un commentaire qui suit une ligne de code"
      ],
      "id": "f216d001",
      "execution_count": null,
      "outputs": []
    },
    {
      "cell_type": "markdown",
      "metadata": {},
      "source": [
        "### Affichage\n",
        "<p id=textIntro>En Python, pour afficher du texte, le contenu d'une variable ou même les deux, on utilise la fonction <strong>print().</strong>  </p>\n"
      ],
      "id": "af4312b0"
    },
    {
      "cell_type": "code",
      "metadata": {},
      "source": [
        "print(\"Mes élèves sont les meilleurs\") # Affiche le texte entre les guillemets\n",
        "print(variableTest) # Affiche la valeur de la variable\n",
        "print(\"Mes élèves sont les meilleurs\", variableTest) # Affiche le texte entre les guillemets et la valeur de la variable"
      ],
      "id": "45741e72",
      "execution_count": null,
      "outputs": []
    },
    {
      "cell_type": "markdown",
      "metadata": {},
      "source": [
        "### Formatage\n",
        "<p id=textIntro>Pour afficher du texte ainsi que des variables dans une même ligne il existe aussi une autre méthode que l'on appelle les <strong>f-strings</strong>. En utilisant les <strong>f-strings</strong>, vous pouvez insérer des variables directement dans une chaîne de caractères en plaçant leur nom <strong>entre des accolades {}</strong> à l'intérieur de la chaîne. Cela améliore grandement la lisibilité. Mais pour cela il faut placer un <strong>f</strong> DEVANT la chaîne de caractères. Voici un exemple :</p>\n"
      ],
      "id": "a7569c72"
    },
    {
      "cell_type": "code",
      "metadata": {},
      "source": [
        "prenom = \"Johann\"\n",
        "age = \"22\"\n",
        "print(f\"Je m'appelle {prenom} et j'ai {age} ans\")"
      ],
      "id": "f1a50b5e",
      "execution_count": null,
      "outputs": []
    },
    {
      "cell_type": "markdown",
      "metadata": {},
      "source": [
        "<p id=textIntro>L'utilisation de la méthode <strong>.format()</strong> en Python permet aussi d'insérer des variables dans des chaînes de caractères en spécifiant des <strong>emplacements réservés</strong> (placeholders) avec des accolades {} , puis en utilisant la méthode <strong>.format()</strong> après la chaine de caractères pour remplacer ces emplacements par les valeurs des variables.</p>\n"
      ],
      "id": "b4f15cae"
    },
    {
      "cell_type": "code",
      "metadata": {},
      "source": [
        "# Utilisation de format()\n",
        "print(\"Bonjour, je m'appelle {} et j'ai {} ans.\".format(prenom, age))"
      ],
      "id": "e9c8f927",
      "execution_count": null,
      "outputs": []
    },
    {
      "cell_type": "markdown",
      "metadata": {},
      "source": [
        "### Calcul et arrondi\n",
        "<p id=textIntro> Dans votre vie de programmeur, vous effectuerez souvent des calculs. Mais leur résultat seront peut-être parfois trop précis, donc il faudra les arrondir ! Dans l'exemple suivant on va faire un calcul puis l'afficher une première fois sans l'arrondir puis un autre fois arrondi.</p>\n"
      ],
      "id": "4d3a21e2"
    },
    {
      "cell_type": "code",
      "metadata": {},
      "source": [
        "# Calcul\n",
        "resultat = 10 / 3\n",
        "\n",
        "# Affichage\n",
        "print(f\"Le résultat pas arrondi est {resultat}\")\n",
        "\n",
        "# Arrondi à deux chiffres après la virgule\n",
        "\n",
        "print(f\"Le résultat arrondi est : {resultat:.2f}\")"
      ],
      "id": "0cedf8f3",
      "execution_count": null,
      "outputs": []
    },
    {
      "cell_type": "markdown",
      "metadata": {},
      "source": [
        "<p id=textIntro>Vous êtes maintenant un pro des commentaires et de l'affichage ! <a href=struct_controle.qmd>Cliquez-ici</a> pour passer à la suite.</p>"
      ],
      "id": "e368ba34"
    }
  ],
  "metadata": {
    "kernelspec": {
      "name": "python3",
      "language": "python",
      "display_name": "Python 3 (ipykernel)"
    }
  },
  "nbformat": 4,
  "nbformat_minor": 5
}