{
  "cells": [
    {
      "cell_type": "raw",
      "metadata": {},
      "source": [
        "---\n",
        "title: Les Fonctions\n",
        "---"
      ],
      "id": "5174534e"
    },
    {
      "cell_type": "markdown",
      "metadata": {},
      "source": [
        "### Les fonctions : Définition et rappels\n",
        "\n",
        "#### Qu'est ce qu'une fonction ?\n",
        "\n",
        "<p id=textIntro>Une **fonction** en programmation est essentiellement une série d'instructions regroupées sous un nom spécifique. Elle agit comme une petite \"machine\" qui peut recevoir des **entrées**, appelées **paramètres**, traiter ces données selon un ensemble d'instructions définies à l'intérieur de la fonction, et éventuellement produire un **résultat**, appelé **valeur de retour**.</p>\n",
        "\n",
        "#### Une fonction en Python\n",
        "<p id=textIntro>Une fonction est définie en utilisant le mot-clé `def`, suivi du nom de la fonction, des parenthèses () contenant des paramètres (si nécessaires), et\n",
        "un bloc d'instructions indenté.</p>\n"
      ],
      "id": "341ce830"
    },
    {
      "cell_type": "code",
      "metadata": {},
      "source": [
        "def nom_de_la_fonction(parametres):\n",
        "    # instructions"
      ],
      "id": "998f199b",
      "execution_count": null,
      "outputs": []
    },
    {
      "cell_type": "markdown",
      "metadata": {},
      "source": [
        "#### L'importance des fonctions\n",
        "<p id=textIntro>Les fonctions jouent un rôle crucial dans la réduction de la redondance du code. Plutôt que de répéter le même code à plusieurs endroits, les fonctions nous permettent de regrouper ce code et de l'appeler selon les besoins. Cette approche rend le code plus concis, plus clair et plus simple à maintenir.</p>\n",
        "\n",
        "#### Pourquoi utiliser les fonctions ?\n",
        "<p id=textIntro>Les fonctions offrent plusieurs avantages essentiels : \n",
        "<ul>\n",
        "<li>**Simplification du code** : En encapsulant des tâches complexes dans des fonctions, on simplifie le code principal, le rendant plus **lisible** et plus **compréhensible**.</li>\n",
        "<li>**Réutilisabilité** : Une fois une fonction définie, elle peut être utilisée **autant de fois que nécessaire** sans avoir à réécrire le même code, ce qui **économise du temps** et **réduit les risques d'erreurs.**</li>\n",
        "<li>**Meilleure organisation du code** : Les fonctions contribuent à **structurer le code** en unités logiques. Chaque fonction a un objectif spécifique, ce qui facilite la compréhension du programme dans son ensemble. De plus, cela **simplifie le débogage** et le **test de parties spécifiques** du code.</li>\n",
        "</ul>\n",
        "\n",
        "</p>"
      ],
      "id": "567041a9"
    }
  ],
  "metadata": {
    "kernelspec": {
      "name": "python3",
      "language": "python",
      "display_name": "Python 3 (ipykernel)"
    }
  },
  "nbformat": 4,
  "nbformat_minor": 5
}